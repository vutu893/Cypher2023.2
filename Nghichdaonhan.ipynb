{
 "cells": [
  {
   "cell_type": "code",
   "execution_count": 1,
   "id": "2c7eda3e",
   "metadata": {},
   "outputs": [
    {
     "name": "stdout",
     "output_type": "stream",
     "text": [
      "Nhập số cần tính nghịch đảo nhân: 11\n",
      "Nhập modulo: 26\n",
      "Nghịch đảo nhân của 11 modulo 26 là 19\n"
     ]
    }
   ],
   "source": [
    "def inverse_multiplicative(number, modulo):\n",
    "    for i in range(1, modulo):\n",
    "        if (number * i) % modulo == 1:\n",
    "            return i\n",
    "    return None\n",
    "\n",
    "number = int(input(\"Nhập số cần tính nghịch đảo nhân: \"))\n",
    "modulo = int(input(\"Nhập modulo: \"))\n",
    "\n",
    "inverse = inverse_multiplicative(number, modulo)\n",
    "\n",
    "if inverse is not None:\n",
    "    print(f\"Nghịch đảo nhân của {number} modulo {modulo} là {inverse}\")\n",
    "else:\n",
    "    print(f\"Không có nghịch đảo nhân của {number} modulo {modulo}\")\n"
   ]
  },
  {
   "cell_type": "code",
   "execution_count": 3,
   "id": "b42fc451",
   "metadata": {},
   "outputs": [
    {
     "name": "stdout",
     "output_type": "stream",
     "text": [
      "Nhập modulo: 26\n",
      "1 3 5 7 9 11 15 17 19 21 23 25 "
     ]
    }
   ],
   "source": [
    "def gcd(a, b):\n",
    "    while b != 0:\n",
    "        a, b = b, a % b\n",
    "    return a\n",
    "modulo = int(input(\"Nhập modulo: \"))\n",
    "for i in range(modulo + 1): \n",
    "    if gcd(i,26) == 1:\n",
    "        print(i, end =' ' )"
   ]
  },
  {
   "cell_type": "code",
   "execution_count": null,
   "id": "4f3498f7",
   "metadata": {},
   "outputs": [],
   "source": [
    "#ma hoa apphin\n"
   ]
  }
 ],
 "metadata": {
  "kernelspec": {
   "display_name": "Python 3 (ipykernel)",
   "language": "python",
   "name": "python3"
  },
  "language_info": {
   "codemirror_mode": {
    "name": "ipython",
    "version": 3
   },
   "file_extension": ".py",
   "mimetype": "text/x-python",
   "name": "python",
   "nbconvert_exporter": "python",
   "pygments_lexer": "ipython3",
   "version": "3.11.5"
  }
 },
 "nbformat": 4,
 "nbformat_minor": 5
}
