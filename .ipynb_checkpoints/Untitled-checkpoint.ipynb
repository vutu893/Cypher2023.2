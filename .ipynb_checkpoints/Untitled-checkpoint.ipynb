{
 "cells": [
  {
   "cell_type": "markdown",
   "id": "e01ba997",
   "metadata": {},
   "source": [
    "<h1 style=\"text-align: center;font-size: 40px\">RSA Cypher</h1>"
   ]
  },
  {
   "cell_type": "code",
   "execution_count": 34,
   "id": "36d545bf",
   "metadata": {},
   "outputs": [
    {
     "name": "stdout",
     "output_type": "stream",
     "text": [
      ">>>> nhap hai so p va q\n",
      "3\n",
      "5\n",
      ">>>> p :  3\n",
      ">>>> q:  5\n",
      ">>>>cac phan tu trong euler foitient function:  [1, 2, 4, 7, 8, 11, 13, 14]\n",
      ">>>> ban hay chon e la mot phan tu trong euler foitient function\n",
      "4\n",
      ">>>> d =  None\n",
      "cap public key:  4 15\n",
      "cap private key:  None 15\n"
     ]
    }
   ],
   "source": [
    "import math\n",
    "#nghich dao nhan\n",
    "def inverse_multiplicative(number, modulo):\n",
    "    for i in range(1, modulo):\n",
    "        if (number * i) % modulo == 1:\n",
    "            return i\n",
    "    return None\n",
    "#RSA\n",
    "#check so nguyen to\n",
    "def prime_number(n):\n",
    "    if n < 2:\n",
    "        return 0\n",
    "    for x in range(2,int(math.sqrt(n))+1):\n",
    "        if n % x == 0:\n",
    "            return 0\n",
    "    return 1\n",
    "\n",
    "#Key generate\n",
    "print('>>>> nhap hai so p va q')\n",
    "while(1):\n",
    "    p = int(input())\n",
    "    q = int(input())\n",
    "    print('>>>> p : ',p)\n",
    "    print('>>>> q: ',q)\n",
    "    if(prime_number(p) and prime_number(q)):\n",
    "        break\n",
    "    print('>>>> p va q phai la hai so nguyen to: ')\n",
    "    print('>>>> ban vui long nhap lai')\n",
    "n = p * q\n",
    "euler_foitient_function = (q - 1) * (p - 1)\n",
    "ele_in_euler_foitient_function = []\n",
    "for x in range(n):\n",
    "    if math.gcd(n,x) == 1:\n",
    "        ele_in_euler_foitient_function.append(x)\n",
    "print('>>>>cac phan tu trong euler foitient function: ',ele_in_euler_foitient_function)\n",
    "print('>>>> ban hay chon e la mot phan tu trong euler foitient function')\n",
    "e = int(input())\n",
    "d = inverse_multiplicative(e, euler_foitient_function)\n",
    "print('>>>> d = ',d)\n",
    "print('cap public key: ',e, n)\n",
    "print('cap private key: ', d, n)\n",
    "print('xem lai phan foitient function')"
   ]
  },
  {
   "cell_type": "code",
   "execution_count": 19,
   "id": "4aa9a1b0",
   "metadata": {},
   "outputs": [
    {
     "name": "stdout",
     "output_type": "stream",
     "text": [
      "ket qua ma hoa sai do ham pow va modulo saiiiiiii => dung Square Multiply Method\n"
     ]
    }
   ],
   "source": [
    "\n",
    "print('ket qua ma hoa sai do ham pow va modulo saiiiiiii => dung Square Multiply Method')"
   ]
  },
  {
   "cell_type": "code",
   "execution_count": 33,
   "id": "59ac3089",
   "metadata": {},
   "outputs": [
    {
     "name": "stdout",
     "output_type": "stream",
     "text": [
      ">>>> nhap plantext\n",
      "5\n",
      ">>>> plantext:  5\n",
      "<class 'str'>\n",
      ">>>> cyphertext:  64\n"
     ]
    },
    {
     "ename": "TypeError",
     "evalue": "'NoneType' object cannot be interpreted as an integer",
     "output_type": "error",
     "traceback": [
      "\u001b[1;31m---------------------------------------------------------------------------\u001b[0m",
      "\u001b[1;31mTypeError\u001b[0m                                 Traceback (most recent call last)",
      "Cell \u001b[1;32mIn[33], line 24\u001b[0m\n\u001b[0;32m     22\u001b[0m \u001b[38;5;28mprint\u001b[39m(\u001b[38;5;124m'\u001b[39m\u001b[38;5;124m>>>> cyphertext: \u001b[39m\u001b[38;5;124m'\u001b[39m, cyphertext)\n\u001b[0;32m     23\u001b[0m \u001b[38;5;66;03m#decryption\u001b[39;00m\n\u001b[1;32m---> 24\u001b[0m plantext_after_decryption \u001b[38;5;241m=\u001b[39m \u001b[38;5;28mint\u001b[39m(Square_Multiply_Method(cyphertext, d, n))\n\u001b[0;32m     25\u001b[0m \u001b[38;5;28mprint\u001b[39m(\u001b[38;5;124m'\u001b[39m\u001b[38;5;124m>>>> plantext after decryption: \u001b[39m\u001b[38;5;124m'\u001b[39m, plantext_after_decryption)\n",
      "Cell \u001b[1;32mIn[33], line 8\u001b[0m, in \u001b[0;36mSquare_Multiply_Method\u001b[1;34m(coso, luythua, modulo)\u001b[0m\n\u001b[0;32m      6\u001b[0m \u001b[38;5;28;01mdef\u001b[39;00m \u001b[38;5;21mSquare_Multiply_Method\u001b[39m(coso, luythua, modulo):\n\u001b[0;32m      7\u001b[0m     p \u001b[38;5;241m=\u001b[39m \u001b[38;5;241m1\u001b[39m\n\u001b[1;32m----> 8\u001b[0m     mu \u001b[38;5;241m=\u001b[39m int_to_binary(luythua)\n\u001b[0;32m      9\u001b[0m     \u001b[38;5;28mprint\u001b[39m(\u001b[38;5;28mtype\u001b[39m(mu))\n\u001b[0;32m     10\u001b[0m     \u001b[38;5;28;01mfor\u001b[39;00m x \u001b[38;5;129;01min\u001b[39;00m mu:\n",
      "Cell \u001b[1;32mIn[33], line 3\u001b[0m, in \u001b[0;36mint_to_binary\u001b[1;34m(n)\u001b[0m\n\u001b[0;32m      2\u001b[0m \u001b[38;5;28;01mdef\u001b[39;00m \u001b[38;5;21mint_to_binary\u001b[39m(n):\n\u001b[1;32m----> 3\u001b[0m     binary \u001b[38;5;241m=\u001b[39m \u001b[38;5;28mstr\u001b[39m(\u001b[38;5;28mbin\u001b[39m(n)[\u001b[38;5;241m2\u001b[39m:])\n\u001b[0;32m      4\u001b[0m     \u001b[38;5;28;01mreturn\u001b[39;00m binary\n",
      "\u001b[1;31mTypeError\u001b[0m: 'NoneType' object cannot be interpreted as an integer"
     ]
    }
   ],
   "source": [
    "#int to binary\n",
    "def int_to_binary(n):\n",
    "    binary = str(bin(n)[2:])\n",
    "    return binary\n",
    "#Square Multiply Method\n",
    "def Square_Multiply_Method(coso, luythua, modulo):\n",
    "    p = 1\n",
    "    mu = int_to_binary(luythua)\n",
    "    print(type(mu))\n",
    "    for x in mu:\n",
    "        if x == '1':\n",
    "            p = (p * p) % modulo\n",
    "            p = (p * coso) % modulo\n",
    "        else:\n",
    "            p = p = (p * p) % modulo\n",
    "    return p\n",
    "#encryption\n",
    "print('>>>> nhap plantext')\n",
    "plantext = int(input())\n",
    "print('>>>> plantext: ', plantext)\n",
    "cyphertext = int(Square_Multiply_Method(plantext,e, n))\n",
    "print('>>>> cyphertext: ', cyphertext)\n",
    "#decryption\n",
    "plantext_after_decryption = int(Square_Multiply_Method(cyphertext, d, n))\n",
    "print('>>>> plantext after decryption: ', plantext_after_decryption)"
   ]
  },
  {
   "cell_type": "code",
   "execution_count": null,
   "id": "2e383f7b",
   "metadata": {},
   "outputs": [],
   "source": []
  }
 ],
 "metadata": {
  "kernelspec": {
   "display_name": "Python 3 (ipykernel)",
   "language": "python",
   "name": "python3"
  },
  "language_info": {
   "codemirror_mode": {
    "name": "ipython",
    "version": 3
   },
   "file_extension": ".py",
   "mimetype": "text/x-python",
   "name": "python",
   "nbconvert_exporter": "python",
   "pygments_lexer": "ipython3",
   "version": "3.11.5"
  }
 },
 "nbformat": 4,
 "nbformat_minor": 5
}
