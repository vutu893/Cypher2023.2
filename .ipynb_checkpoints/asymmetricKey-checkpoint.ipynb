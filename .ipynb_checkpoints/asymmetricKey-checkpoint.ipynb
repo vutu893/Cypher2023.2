{
 "cells": [
  {
   "cell_type": "markdown",
   "id": "8df34d59",
   "metadata": {},
   "source": [
    "<h1 style=\"text-align: center;font-size: 40px\">Asymmetric- key Cypher</h1>\n",
    "<h2 style=\"text-align: center;font-size: 40px\">Knapsack  Cypher</h2>"
   ]
  },
  {
   "cell_type": "code",
   "execution_count": null,
   "id": "690ffb6c",
   "metadata": {},
   "outputs": [
    {
     "name": "stdout",
     "output_type": "stream",
     "text": [
      ">>>> so phan tu cua super increasing: \n"
     ]
    }
   ],
   "source": [
    "#knapsack encryption\n",
    "\n",
    "#nghich dao nhan\n",
    "def inverse_multiplicative(number, modulo):\n",
    "    for i in range(1, modulo):\n",
    "        if (number * i) % modulo == 1:\n",
    "            return i\n",
    "    return None\n",
    "#super increasing knapsack\n",
    "super_increasing = []\n",
    "print('>>>> so phan tu cua super increasing: ')\n",
    "\n",
    "count = int(input())\n",
    "for x in range(count):\n",
    "    print('phan tu', x + 1)\n",
    "    ele = int(input())\n",
    "    if(x > 0):\n",
    "        if ele < sum(super_increasing):\n",
    "           print('>>>> vui long nhap lai so > ',sum(super_increasing))\n",
    "           print('phan tu', x + 1)\n",
    "           ele = int(input())           \n",
    "    super_increasing.append(ele)\n",
    "print('super increasing: ', super_increasing)\n",
    "#chon cap so m va n\n",
    "def gcd(a, b):\n",
    "    while b != 0:\n",
    "        a, b = b, a % b\n",
    "    return a\n",
    "print('>>>> chon m: ')\n",
    "m = int(input())\n",
    "ntcungnhau = []\n",
    "for x in range(m):\n",
    "    if(gcd(m, x) == 1):\n",
    "        ntcungnhau.append(x)\n",
    "print('>>>> nhung so nguyen to cung nhau voi m: ', ntcungnhau)\n",
    "print('chon n: ')\n",
    "n = int(input())\n"
   ]
  },
  {
   "cell_type": "code",
   "execution_count": null,
   "id": "384672cf",
   "metadata": {},
   "outputs": [],
   "source": [
    "#generate key public and private key\n",
    "\n",
    "#key public\n",
    "key_public = []\n",
    "for x in range(len(super_increasing)):\n",
    "    result = (super_increasing[x] * n) % m\n",
    "    key_public.append(result)\n",
    "print('>>>> key public: ', key_public)\n",
    "key_private = []\n",
    "key_private = super_increasing\n",
    "print('>>>> key private: ', key_private)"
   ]
  },
  {
   "cell_type": "code",
   "execution_count": 44,
   "id": "315ffe5b",
   "metadata": {},
   "outputs": [
    {
     "name": "stdout",
     "output_type": "stream",
     "text": [
      "100100111100101110\n",
      ">>>> plantext:  100100111100101110\n",
      "cyphertext:  [121, 197, 205]\n"
     ]
    }
   ],
   "source": [
    "#encryption\n",
    "plantext = input()\n",
    "while(1):\n",
    "    if(len(plantext) % len(key_public) != 0):\n",
    "        print('ban vui long nhap lai plantext co do dai la boi cua:', len(key_public))\n",
    "        plantext = input()\n",
    "    else:\n",
    "        break\n",
    "    \n",
    "print('>>>> plantext: ',plantext)\n",
    "\n",
    "cyphertext = []\n",
    "s = 0\n",
    "cnt = 0\n",
    "#knapsack\n",
    "for x in range(len(plantext)):\n",
    "    if plantext[x] == '1':\n",
    "        s += key_public[x % len(key_public)]\n",
    "    cnt += 1\n",
    "    if cnt == len(key_public):\n",
    "        cyphertext.append(s)\n",
    "        cnt = 0\n",
    "        s = 0\n",
    "print('cyphertext: ', cyphertext)    \n",
    "\n",
    "\n"
   ]
  },
  {
   "cell_type": "code",
   "execution_count": null,
   "id": "6cd41189",
   "metadata": {},
   "outputs": [],
   "source": [
    "#decryption\n",
    "inverse_mul = inverse_multiplicative(n,m)\n",
    "print('nghich dao nhan cua n la: ', inverse_mul)\n",
    "\n",
    "#inv_knapsack\n",
    "def inv_knapsack(c):\n",
    "    result = ''\n",
    "    for x in range(len(key_private)):\n",
    "        if c >= key_private[len(key_private) - x - 1]:\n",
    "            result += '1'\n",
    "            c -= key_private[len(key_private) - x - 1]\n",
    "        else:\n",
    "            result += '0'\n",
    "    return result[::-1]\n",
    "plantext_after_decryption = ''\n",
    "for x in range(len(cyphertext)):\n",
    "    val = (cyphertext[x] * inverse_mul) % m\n",
    "    print(\"gia tri cua val: \", val)\n",
    "    plantext_after_decryption = plantext_after_decryption + inv_knapsack(val)\n",
    "print('plantext after decryption: ', plantext_after_decryption)    \n",
    "    "
   ]
  },
  {
   "cell_type": "markdown",
   "id": "437ba8d0",
   "metadata": {},
   "source": [
    "<h1 style=\"text-align: center;font-size: 40px\">RSA Cypher</h1>"
   ]
  },
  {
   "cell_type": "code",
   "execution_count": 16,
   "id": "1eb482fc",
   "metadata": {},
   "outputs": [
    {
     "name": "stdout",
     "output_type": "stream",
     "text": [
      ">>>> nhap hai so p va q\n",
      ">>>> p : \n",
      "11 \n",
      ">>>> q: \n",
      "7\n",
      "cac phan tu trong euler foitient function:  [1, 2, 3, 4, 5, 6, 8, 9, 10, 12, 13, 15, 16, 17, 18, 19, 20, 23, 24, 25, 26, 27, 29, 30, 31, 32, 34, 36, 37, 38, 39, 40, 41, 43, 45, 46, 47, 48, 50, 51, 52, 53, 54, 57, 58, 59, 60, 61, 62, 64, 65, 67, 68, 69, 71, 72, 73, 74, 75, 76]\n",
      ">>>> ban hay chon e la mot phan tu trong euler foitient function\n",
      "13\n"
     ]
    },
    {
     "ename": "NameError",
     "evalue": "name 'inverse_multiplicative' is not defined",
     "output_type": "error",
     "traceback": [
      "\u001b[1;31m---------------------------------------------------------------------------\u001b[0m",
      "\u001b[1;31mNameError\u001b[0m                                 Traceback (most recent call last)",
      "Cell \u001b[1;32mIn[16], line 31\u001b[0m\n\u001b[0;32m     29\u001b[0m \u001b[38;5;28mprint\u001b[39m(\u001b[38;5;124m'\u001b[39m\u001b[38;5;124m>>>> ban hay chon e la mot phan tu trong euler foitient function\u001b[39m\u001b[38;5;124m'\u001b[39m)\n\u001b[0;32m     30\u001b[0m e \u001b[38;5;241m=\u001b[39m \u001b[38;5;28mint\u001b[39m(\u001b[38;5;28minput\u001b[39m())\n\u001b[1;32m---> 31\u001b[0m d \u001b[38;5;241m=\u001b[39m inverse_multiplicative(e, euler_foitient_function)\n\u001b[0;32m     32\u001b[0m \u001b[38;5;28mprint\u001b[39m(\u001b[38;5;124m'\u001b[39m\u001b[38;5;124m>>>> d = \u001b[39m\u001b[38;5;124m'\u001b[39m,d)\n",
      "\u001b[1;31mNameError\u001b[0m: name 'inverse_multiplicative' is not defined"
     ]
    }
   ],
   "source": []
  },
  {
   "cell_type": "code",
   "execution_count": null,
   "id": "d8d869dd",
   "metadata": {},
   "outputs": [],
   "source": []
  }
 ],
 "metadata": {
  "kernelspec": {
   "display_name": "Python 3 (ipykernel)",
   "language": "python",
   "name": "python3"
  },
  "language_info": {
   "codemirror_mode": {
    "name": "ipython",
    "version": 3
   },
   "file_extension": ".py",
   "mimetype": "text/x-python",
   "name": "python",
   "nbconvert_exporter": "python",
   "pygments_lexer": "ipython3",
   "version": "3.11.5"
  }
 },
 "nbformat": 4,
 "nbformat_minor": 5
}
