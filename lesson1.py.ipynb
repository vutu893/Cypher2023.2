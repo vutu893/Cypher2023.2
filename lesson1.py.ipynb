{
 "cells": [
  {
   "cell_type": "code",
   "execution_count": null,
   "id": "65843260",
   "metadata": {},
   "outputs": [],
   "source": [
    "plaintext = 'Hello'"
   ]
  },
  {
   "cell_type": "code",
   "execution_count": null,
   "id": "78a800c1",
   "metadata": {},
   "outputs": [],
   "source": [
    "key = 3"
   ]
  },
  {
   "cell_type": "code",
   "execution_count": 15,
   "id": "76e8af20",
   "metadata": {},
   "outputs": [
    {
     "name": "stdout",
     "output_type": "stream",
     "text": [
      ">>> phaintext:  Hello\n",
      ">>> ciphertext:  Khoor\n",
      ">>> deciphertext:  Hello\n"
     ]
    }
   ],
   "source": [
    "# cypher caesar\n",
    "print('>>> phaintext: ', plaintext)\n",
    "ciphertext = ''\n",
    "for pc in plaintext:\n",
    "    if pc.islower():\n",
    "        cc = (ord(pc) - 97)%26 + key\n",
    "        ciphertext +=(chr(cc + 97))\n",
    "    elif pc.isupper():\n",
    "        cc = (ord(pc) - 65)%26 + key\n",
    "        ciphertext +=(chr(cc + 65))\n",
    "print('>>> ciphertext: ',ciphertext)\n",
    "deciphertext = ''\n",
    "for cc in ciphertext:\n",
    "    if cc.islower():\n",
    "        dc = (ord(cc) - 97)%26 - key\n",
    "        deciphertext += (chr(dc + 97))\n",
    "    elif cc.isupper():\n",
    "        dc = (ord(cc) - 65)%26 - key\n",
    "        deciphertext += (chr(dc + 65))\n",
    "        \n",
    "print('>>> deciphertext: ',deciphertext)"
   ]
  },
  {
   "cell_type": "code",
   "execution_count": null,
   "id": "f86a3d2b",
   "metadata": {},
   "outputs": [],
   "source": []
  }
 ],
 "metadata": {
  "kernelspec": {
   "display_name": "Python 3 (ipykernel)",
   "language": "python",
   "name": "python3"
  },
  "language_info": {
   "codemirror_mode": {
    "name": "ipython",
    "version": 3
   },
   "file_extension": ".py",
   "mimetype": "text/x-python",
   "name": "python",
   "nbconvert_exporter": "python",
   "pygments_lexer": "ipython3",
   "version": "3.11.5"
  }
 },
 "nbformat": 4,
 "nbformat_minor": 5
}
