{
 "cells": [
  {
   "cell_type": "code",
   "execution_count": 6,
   "id": "cd81be1f",
   "metadata": {},
   "outputs": [
    {
     "name": "stdout",
     "output_type": "stream",
     "text": [
      "Hexadecimal representation: 48656c6c6f776f726c6421\n"
     ]
    }
   ],
   "source": [
    "def text_to_hex(plaintext):\n",
    "    # Using list comprehension to convert each character to its hexadecimal representation\n",
    "    hex_code = ''.join([hex(ord(char))[2:] for char in plaintext])\n",
    "    return hex_code\n",
    "\n",
    "# Example plaintext\n",
    "plaintext = \"Helloworld!\"\n",
    "# Convert plaintext to hexadecimal\n",
    "hexadecimal = text_to_hex(plaintext)\n",
    "print(\"Hexadecimal representation:\", hexadecimal)"
   ]
  },
  {
   "cell_type": "code",
   "execution_count": 7,
   "id": "33140d07",
   "metadata": {},
   "outputs": [
    {
     "name": "stdout",
     "output_type": "stream",
     "text": [
      "Binary representation: 111110100\n"
     ]
    }
   ],
   "source": [
    "# Function to convert hexadecimal to binary\n",
    "def hex_to_bin(hex_code):\n",
    "    # Using built-in function int() to convert hexadecimal to decimal\n",
    "    # Then using built-in function bin() to convert decimal to binary\n",
    "    binary_code = bin(int(hex_code, 16))[2:]\n",
    "    return binary_code\n",
    "\n",
    "# Example hexadecimal code\n",
    "hexadecimal = \"1F4\"\n",
    "\n",
    "# Convert hexadecimal to binary\n",
    "binary = hex_to_bin(hexadecimal)\n",
    "print(\"Binary representation:\", binary)\n"
   ]
  },
  {
   "cell_type": "code",
   "execution_count": null,
   "id": "c3c34b81",
   "metadata": {},
   "outputs": [],
   "source": []
  }
 ],
 "metadata": {
  "kernelspec": {
   "display_name": "Python 3 (ipykernel)",
   "language": "python",
   "name": "python3"
  },
  "language_info": {
   "codemirror_mode": {
    "name": "ipython",
    "version": 3
   },
   "file_extension": ".py",
   "mimetype": "text/x-python",
   "name": "python",
   "nbconvert_exporter": "python",
   "pygments_lexer": "ipython3",
   "version": "3.11.5"
  }
 },
 "nbformat": 4,
 "nbformat_minor": 5
}
