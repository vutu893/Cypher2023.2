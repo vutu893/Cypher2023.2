{
 "cells": [
  {
   "cell_type": "code",
   "execution_count": 3,
   "id": "5dc7ef67",
   "metadata": {},
   "outputs": [
    {
     "name": "stdout",
     "output_type": "stream",
     "text": [
      "Galois Field GF(2, 3) elements:\n",
      "[0, 1, 2, 3, 4, 5, 6, 7]\n"
     ]
    }
   ],
   "source": [
    "def gf_add(a, b):\n",
    "    return a ^ b\n",
    "\n",
    "def gf_multiply(a, b, field_char):\n",
    "    result = 0\n",
    "    while b:\n",
    "        if b & 1:\n",
    "            result ^= a\n",
    "        a <<= 1\n",
    "        if a >= (1 << field_char):\n",
    "            a ^= (1 << field_char) ^ (1 << 3) ^ (1 << 2) ^ (1 << 0)  # Here, we use a specific irreducible polynomial for GF(2^8), adjust it as per the characteristic of the field.\n",
    "        b >>= 1\n",
    "    return result\n",
    "\n",
    "def generate_gf_elements(p, n):\n",
    "    elements = []\n",
    "    field_char = p ** n\n",
    "    for i in range(field_char):\n",
    "        elements.append(i)\n",
    "    return elements\n",
    "\n",
    "# Example usage\n",
    "p = 2  # Prime number\n",
    "n =  3 # Positive integer\n",
    "gf_elements = generate_gf_elements(p, n)\n",
    "print(\"Galois Field GF({}, {}) elements:\".format(p, n))\n",
    "print(gf_elements)\n"
   ]
  },
  {
   "cell_type": "code",
   "execution_count": 7,
   "id": "295ca1a4",
   "metadata": {},
   "outputs": [
    {
     "name": "stdout",
     "output_type": "stream",
     "text": [
      "Inverse of Poly(-2*x - 1, x, modulus=5) is Poly(-x + 2, x, modulus=5)\n"
     ]
    }
   ],
   "source": [
    "\n",
    "\n",
    "from sympy import Poly, gcdex, symbols\n",
    "x = symbols('x')\n",
    "# Define the field characteristic and the irreducible polynomial\n",
    "p = x**\n",
    "irreducible_poly = Poly(x**2 + x + 1, modulus=p)\n",
    "\n",
    "\n",
    "# Element for which we want to find the inverse\n",
    "a_poly = Poly(3*x + 4, modulus=p)\n",
    "\n",
    "# Use Extended Euclidean Algorithm to find the inverse\n",
    "s, t, gcd = gcdex(a_poly, irreducible_poly)\n",
    "\n",
    "# Check if the inverse exists\n",
    "if gcd == 1:\n",
    "    # If gcd(a, irreducible_poly) == 1, the inverse exists\n",
    "    inverse_poly = s % irreducible_poly\n",
    "    print(\"Inverse of {} is {}\".format(a_poly, inverse_poly))\n",
    "else:\n",
    "    print(\"Inverse does not exist for {}\".format(a_poly))\n"
   ]
  },
  {
   "cell_type": "code",
   "execution_count": null,
   "id": "45f6c25a",
   "metadata": {},
   "outputs": [],
   "source": []
  }
 ],
 "metadata": {
  "kernelspec": {
   "display_name": "Python 3 (ipykernel)",
   "language": "python",
   "name": "python3"
  },
  "language_info": {
   "codemirror_mode": {
    "name": "ipython",
    "version": 3
   },
   "file_extension": ".py",
   "mimetype": "text/x-python",
   "name": "python",
   "nbconvert_exporter": "python",
   "pygments_lexer": "ipython3",
   "version": "3.11.5"
  }
 },
 "nbformat": 4,
 "nbformat_minor": 5
}
