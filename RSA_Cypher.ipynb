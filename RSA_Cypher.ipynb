{
 "cells": [
  {
   "cell_type": "markdown",
   "id": "e01ba997",
   "metadata": {},
   "source": [
    "<h1 style=\"text-align: center;font-size: 40px\">RSA Cypher</h1>"
   ]
  },
  {
   "cell_type": "code",
   "execution_count": 22,
   "id": "a1449a26",
   "metadata": {},
   "outputs": [],
   "source": [
    "#xu li input va outpout la cac van ban ki tu\n",
    "def int_to_binary(n):\n",
    "    binary = str(bin(n)[2:])\n",
    "    return binary\n",
    "#Square Multiply Method\n",
    "def Square_Multiply_Method(coso, luythua, modulo):\n",
    "    p = 1\n",
    "    mu = int_to_binary(luythua)\n",
    "    print(type(mu))\n",
    "    for x in mu:\n",
    "        if x == '1':\n",
    "            p = (p * p) % modulo\n",
    "            p = (p * coso) % modulo\n",
    "        else:\n",
    "            p = p = (p * p) % modulo\n",
    "    return p\n",
    "#moi chu cai bieu thi boi hai chu so\n",
    "def process_str(x):\n",
    "    if len(x) == 1:\n",
    "        x = '0' + x;\n",
    "    return x\n",
    "#xu li dau vao\n",
    "def process_input(pltext):\n",
    "    plantext = ''\n",
    "    for x in pltext:\n",
    "        get_ascii = ord(x)\n",
    "        if x.isupper() == True:\n",
    "            plantext += process_str(str(get_ascii - 65))\n",
    "        else:\n",
    "            plantext += process_str(str(get_ascii - 97))\n",
    "    return int(plantext)\n",
    "#xu li dau ra            \n",
    "def process_output(cytext):\n",
    "    plantext_after_decry = ''\n",
    "    result = ''\n",
    "    i = 0\n",
    "    for x in range(len(cytext)):\n",
    "        i += 1\n",
    "        result += cytext[x]\n",
    "        if i == 2:\n",
    "            plantext_after_decry += chr(int(result) + 65)\n",
    "            i = 0\n",
    "            result = ''\n",
    "    return plantext_after_decry\n",
    "        \n",
    " #y tuong sai: phai ma hoa tung ki tu mot    "
   ]
  },
  {
   "cell_type": "code",
   "execution_count": 23,
   "id": "36d545bf",
   "metadata": {},
   "outputs": [
    {
     "name": "stdout",
     "output_type": "stream",
     "text": [
      ">>>> nhap hai so p va q\n",
      "3\n",
      "5\n",
      ">>>> p :  3\n",
      ">>>> q:  5\n",
      ">>>>cac phan tu trong euler foitient function:  [1, 7, 11, 13]\n",
      ">>>> ban hay chon e la mot phan tu trong euler foitient function\n",
      "7\n",
      ">>>> d =  7\n",
      "cap public key:  7 15\n",
      "cap private key:  7 15\n",
      "xem lai phan foitient function\n"
     ]
    }
   ],
   "source": [
    "import math\n",
    "#nghich dao nhan\n",
    "def inverse_multiplicative(number, modulo):\n",
    "    for i in range(1, modulo):\n",
    "        if (number * i) % modulo == 1:\n",
    "            return i\n",
    "    return None\n",
    "#RSA\n",
    "#check so nguyen to\n",
    "def prime_number(n):\n",
    "    if n < 2:\n",
    "        return 0\n",
    "    for x in range(2,int(math.sqrt(n))+1):\n",
    "        if n % x == 0:\n",
    "            return 0\n",
    "    return 1\n",
    "\n",
    "#Key generate\n",
    "print('>>>> nhap hai so p va q')\n",
    "while(1):\n",
    "    p = int(input())\n",
    "    q = int(input())\n",
    "    print('>>>> p : ',p)\n",
    "    print('>>>> q: ',q)\n",
    "    if(prime_number(p) and prime_number(q)):\n",
    "        break\n",
    "    print('>>>> p va q phai la hai so nguyen to: ')\n",
    "    print('>>>> ban vui long nhap lai')\n",
    "n = p * q\n",
    "euler_foitient_function = (q - 1) * (p - 1)\n",
    "ele_in_euler_foitient_function = []\n",
    "for x in range(n):\n",
    "    if math.gcd(n,x) == 1 and inverse_multiplicative(x, euler_foitient_function) != None:\n",
    "        ele_in_euler_foitient_function.append(x)\n",
    "print('>>>>cac phan tu trong euler foitient function: ',ele_in_euler_foitient_function)\n",
    "print('>>>> ban hay chon e la mot phan tu trong euler foitient function')\n",
    "e = int(input())\n",
    "d = inverse_multiplicative(e, euler_foitient_function)\n",
    "print('>>>> d = ',d)\n",
    "print('cap public key: ',e, n)\n",
    "print('cap private key: ', d, n)\n",
    "print('xem lai phan foitient function')"
   ]
  },
  {
   "cell_type": "code",
   "execution_count": 19,
   "id": "4aa9a1b0",
   "metadata": {},
   "outputs": [
    {
     "name": "stdout",
     "output_type": "stream",
     "text": [
      "ket qua ma hoa sai do ham pow va modulo saiiiiiii => dung Square Multiply Method\n"
     ]
    }
   ],
   "source": [
    "\n",
    "print('ket qua ma hoa sai do ham pow va modulo saiiiiiii => dung Square Multiply Method')"
   ]
  },
  {
   "cell_type": "code",
   "execution_count": 24,
   "id": "59ac3089",
   "metadata": {},
   "outputs": [
    {
     "name": "stdout",
     "output_type": "stream",
     "text": [
      ">>>> nhap plantext\n",
      "i\n",
      ">>>> plantext:  8\n",
      "<class 'int'>\n",
      "<class 'str'>\n",
      ">>>> cyphertext:  2\n",
      ">>>>> cyphertext:  C\n",
      "<class 'str'>\n",
      ">>>> plantext after decryption:  8\n",
      ">>>> after decryption plantext:  I\n"
     ]
    }
   ],
   "source": [
    "\n",
    "#encryption\n",
    "print('>>>> nhap plantext')\n",
    "plantext = input()\n",
    "len_input = len(plantext)\n",
    "plantext = process_input(plantext)\n",
    "print('>>>> plantext: ', plantext)\n",
    "print(type(plantext))\n",
    "cyphertext = int(Square_Multiply_Method(plantext,e, n))\n",
    "print('>>>> cyphertext: ', cyphertext)\n",
    "cyphertext_str = str(cyphertext)\n",
    "if len(cyphertext_str) != len_input * 2:\n",
    "    cyphertext_str = '0' + cyphertext_str\n",
    "cyphertext_process = process_output(cyphertext_str)\n",
    "print('>>>>> cyphertext: ', cyphertext_process)\n",
    "#decryption\n",
    "\n",
    "plantext_after_decryption = int(Square_Multiply_Method(cyphertext, d, n))\n",
    "plantext_output = str(plantext_after_decryption)\n",
    "if len(plantext_output) != len_input * 2:\n",
    "    plantext_output = '0' + plantext_output\n",
    "plantext_after_finish = process_output(plantext_output)\n",
    "print('>>>> plantext after decryption: ', plantext_after_decryption)\n",
    "print('>>>> after decryption plantext: ', plantext_after_finish)"
   ]
  },
  {
   "cell_type": "code",
   "execution_count": 18,
   "id": "2e383f7b",
   "metadata": {},
   "outputs": [
    {
     "name": "stdout",
     "output_type": "stream",
     "text": [
      "<class 'int'>\n",
      "97\n",
      "a\n",
      "<class 'int'>\n",
      "11111111111111111\n",
      "10203\n",
      "<class 'int'>\n",
      "10111000011011101010111100111111000101010100001100\n"
     ]
    }
   ],
   "source": [
    "x = 'a'\n",
    "print(type(ord(x)))\n",
    "print(ord(x))\n",
    "print(x)\n",
    "y = '11111111111111111'\n",
    "print(type(int(y)))\n",
    "print(y)\n",
    "print(process_input('abcd'))\n",
    "c = 1\n",
    "d = str(c)\n",
    "print(type(c))\n",
    "print(int_to_binary( 811142104241420))"
   ]
  },
  {
   "cell_type": "code",
   "execution_count": null,
   "id": "bc758ba6",
   "metadata": {},
   "outputs": [],
   "source": []
  }
 ],
 "metadata": {
  "kernelspec": {
   "display_name": "Python 3 (ipykernel)",
   "language": "python",
   "name": "python3"
  },
  "language_info": {
   "codemirror_mode": {
    "name": "ipython",
    "version": 3
   },
   "file_extension": ".py",
   "mimetype": "text/x-python",
   "name": "python",
   "nbconvert_exporter": "python",
   "pygments_lexer": "ipython3",
   "version": "3.11.5"
  }
 },
 "nbformat": 4,
 "nbformat_minor": 5
}
