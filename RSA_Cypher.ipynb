{
 "cells": [
  {
   "cell_type": "markdown",
   "id": "e01ba997",
   "metadata": {},
   "source": [
    "<h1 style=\"text-align: center;font-size: 40px\">RSA Cypher</h1>"
   ]
  },
  {
   "cell_type": "code",
   "execution_count": 109,
   "id": "a1449a26",
   "metadata": {},
   "outputs": [],
   "source": [
    "#xu li input va outpout la cac van ban ki tu trong bang chu cai va dau cach\n",
    "def int_to_binary(n):\n",
    "    binary = str(bin(n)[2:])\n",
    "    return binary\n",
    "#Square Multiply Method\n",
    "def Square_Multiply_Method(coso, luythua, modulo):\n",
    "    p = 1\n",
    "    mu = int_to_binary(luythua)\n",
    "    for x in mu:\n",
    "        if x == '1':\n",
    "            p = (p * p) % modulo\n",
    "            p = (p * coso) % modulo\n",
    "        else:\n",
    "            p = p = (p * p) % modulo\n",
    "    return p\n",
    "#chuyen tu int sang str\n",
    "def convert_int_to_string(pltext):\n",
    "    result = ''\n",
    "    for x in pltext:\n",
    "        get_ascii = ord(x)\n",
    "        if get_ascii > 32:\n",
    "            get_ascii = str(get_ascii - 97)\n",
    "        if get_ascii == 32:\n",
    "            get_ascii = str(get_ascii)\n",
    "        if len(get_ascii) == 1:\n",
    "            get_ascii = '0'+get_ascii\n",
    "        result += get_ascii\n",
    "    return result\n",
    "def give_cyphertext(string,e,module):\n",
    "    cyphertext = ''\n",
    "    i = 0\n",
    "    tmp = ''\n",
    "    for x in range(len(string)):\n",
    "        i += 1\n",
    "        tmp += string[x]\n",
    "        if i == 2:\n",
    "#             cyphertext += chr((Square_Multiply_Method(int(tmp),d,module) % 26) + 97)\n",
    "            result = str(Square_Multiply_Method(int(tmp),e,module))\n",
    "            if len(result) == 1:\n",
    "                result = '0' + result\n",
    "            cyphertext += result\n",
    "            i = 0\n",
    "            tmp =''\n",
    "    return cyphertext\n",
    "def decryption(number, d, module):\n",
    "    cyphertext = ''\n",
    "    i = 0\n",
    "    tmp = ''\n",
    "    for x in range(len(number)):\n",
    "        i += 1\n",
    "        tmp += number[x]\n",
    "        if i == 2:\n",
    "#             cyphertext += chr((Square_Multiply_Method(int(tmp),d,module) % 26) + 97)\n",
    "            result = str(Square_Multiply_Method(int(tmp),d,module))\n",
    "            if len(result) == 1:\n",
    "                result = '0' + result\n",
    "            cyphertext += result\n",
    "            i = 0\n",
    "            tmp =''\n",
    "    return cyphertext\n",
    "def convert_to_char(cyphertext):\n",
    "    text = ''\n",
    "    i = 0\n",
    "    tmp = ''\n",
    "    for x in range(len(cyphertext)):\n",
    "        i += 1\n",
    "        tmp += cyphertext[x]\n",
    "        if i == 2:\n",
    "            if int(tmp) == 32:\n",
    "                text += \" \"\n",
    "            else:\n",
    "                text += chr((int(tmp) % 26) + 97)\n",
    "            i = 0\n",
    "            tmp = ''\n",
    "    return text\n",
    "    "
   ]
  },
  {
   "cell_type": "code",
   "execution_count": 110,
   "id": "36d545bf",
   "metadata": {},
   "outputs": [
    {
     "name": "stdout",
     "output_type": "stream",
     "text": [
      ">>>> nhap hai so p va q\n",
      "11\n",
      "7\n",
      ">>>> p :  11\n",
      ">>>> q:  7\n",
      ">>>> n:  77\n",
      ">>>>cac phan tu trong euler foitient function:  [1, 13, 17, 19, 23, 29, 31, 37, 41, 43, 47, 53, 59, 61, 67, 71, 73]\n",
      ">>>> ban hay chon e la mot phan tu trong euler foitient function\n",
      "13\n",
      ">>>> d =  37\n",
      "cap public key:  13 77\n",
      "cap private key:  37 77\n",
      "xem lai phan foitient function\n"
     ]
    }
   ],
   "source": [
    "import math\n",
    "#nghich dao nhan\n",
    "def inverse_multiplicative(number, modulo):\n",
    "    for i in range(1, modulo):\n",
    "        if (number * i) % modulo == 1:\n",
    "            return i\n",
    "    return None\n",
    "#RSA\n",
    "#check so nguyen to\n",
    "def prime_number(n):\n",
    "    if n < 2:\n",
    "        return 0\n",
    "    for x in range(2,int(math.sqrt(n))+1):\n",
    "        if n % x == 0:\n",
    "            return 0\n",
    "    return 1\n",
    "\n",
    "#Key generate\n",
    "print('>>>> nhap hai so p va q')\n",
    "while(1):\n",
    "    p = int(input())\n",
    "    q = int(input())\n",
    "    print('>>>> p : ',p)\n",
    "    print('>>>> q: ',q)\n",
    "    if(prime_number(p) and prime_number(q)):\n",
    "        break\n",
    "    print('>>>> p va q phai la hai so nguyen to: ')\n",
    "    print('>>>> ban vui long nhap lai')\n",
    "n = p * q\n",
    "print('>>>> n: ',n)\n",
    "euler_foitient_function = (q - 1) * (p - 1)\n",
    "ele_in_euler_foitient_function = []\n",
    "for x in range(n):\n",
    "    if math.gcd(n,x) == 1 and inverse_multiplicative(x, euler_foitient_function) != None:\n",
    "        ele_in_euler_foitient_function.append(x)\n",
    "print('>>>>cac phan tu trong euler foitient function: ',ele_in_euler_foitient_function)\n",
    "print('>>>> ban hay chon e la mot phan tu trong euler foitient function')\n",
    "e = int(input())\n",
    "d = inverse_multiplicative(e, euler_foitient_function)\n",
    "print('>>>> d = ',d)\n",
    "print('cap public key: ',e, n)\n",
    "print('cap private key: ', d, n)\n",
    "print('xem lai phan foitient function')"
   ]
  },
  {
   "cell_type": "code",
   "execution_count": 19,
   "id": "4aa9a1b0",
   "metadata": {},
   "outputs": [
    {
     "name": "stdout",
     "output_type": "stream",
     "text": [
      "ket qua ma hoa sai do ham pow va modulo saiiiiiii => dung Square Multiply Method\n"
     ]
    }
   ],
   "source": [
    "\n",
    "print('ket qua ma hoa sai do ham pow va modulo saiiiiiii => dung Square Multiply Method')"
   ]
  },
  {
   "cell_type": "code",
   "execution_count": 111,
   "id": "59ac3089",
   "metadata": {},
   "outputs": [
    {
     "name": "stdout",
     "output_type": "stream",
     "text": [
      ">>>> nhap plantext\n",
      "good morning fuck you\n",
      ">>>> plantext:  good morning fuck you\n",
      ">>>> plantext:  061414033212141713081306320520021032241420\n",
      ">>>> cyphertext:  624949383212497341504162322669301032524969\n",
      ">>>> cyphertext in text:  kxxm mxvpypk arek axr\n",
      ">>>> plantext after decryption:  good morning fuck you\n"
     ]
    }
   ],
   "source": [
    "\n",
    "#encryption\n",
    "print('>>>> nhap plantext')\n",
    "plantext = input()\n",
    "print('>>>> plantext: ', plantext)\n",
    "\n",
    "plantext_int_to_str = convert_int_to_string(plantext)\n",
    "print('>>>> plantext: ', plantext_int_to_str)\n",
    "#cyphertext\n",
    "cyphertext = give_cyphertext(plantext_int_to_str, e, n)\n",
    "cyphertext_text = convert_to_char(give_cyphertext(plantext_int_to_str, e, n))\n",
    "print('>>>> cyphertext: ', cyphertext)\n",
    "print('>>>> cyphertext in text: ', cyphertext_text)\n",
    "# cyphertext_string_number = convert_int_to_string(convert_string_to_int(cyphertext))\n",
    "# print('>>>> cyphertext after process to string number: ', cyphertext_string_number)\n",
    "\n",
    "#decryption\n",
    "plantext_after_decryption = convert_to_char(decryption(cyphertext,d,n))\n",
    "print('>>>> plantext after decryption: ',plantext_after_decryption)"
   ]
  },
  {
   "cell_type": "code",
   "execution_count": 102,
   "id": "bdba4edb",
   "metadata": {},
   "outputs": [
    {
     "name": "stdout",
     "output_type": "stream",
     "text": [
      "1\n"
     ]
    }
   ],
   "source": [
    "[a, b] = [1,3]\n",
    "print(a)"
   ]
  },
  {
   "cell_type": "code",
   "execution_count": null,
   "id": "c3f7e93d",
   "metadata": {},
   "outputs": [],
   "source": []
  }
 ],
 "metadata": {
  "kernelspec": {
   "display_name": "Python 3 (ipykernel)",
   "language": "python",
   "name": "python3"
  },
  "language_info": {
   "codemirror_mode": {
    "name": "ipython",
    "version": 3
   },
   "file_extension": ".py",
   "mimetype": "text/x-python",
   "name": "python",
   "nbconvert_exporter": "python",
   "pygments_lexer": "ipython3",
   "version": "3.11.5"
  }
 },
 "nbformat": 4,
 "nbformat_minor": 5
}
